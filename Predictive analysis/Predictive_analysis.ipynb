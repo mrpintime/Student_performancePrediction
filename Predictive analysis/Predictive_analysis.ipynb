{
  "cells": [
    {
      "cell_type": "markdown",
      "id": "d9e85ee6-195b-4c01-b423-1ba9a18aab62",
      "metadata": {
        "id": "d9e85ee6-195b-4c01-b423-1ba9a18aab62"
      },
      "source": [
        "# Predictive Analysis and Pre-Processing\n",
        "**created by mrpintime**\n",
        "\n",
        "\n",
        "\n",
        "\n",
        "\n",
        "\n",
        "\n"
      ]
    },
    {
      "cell_type": "markdown",
      "source": [
        "# Setup"
      ],
      "metadata": {
        "id": "ws6L_A8elihX"
      },
      "id": "ws6L_A8elihX"
    },
    {
      "cell_type": "code",
      "execution_count": 2,
      "id": "9cc98774-82b7-4c79-b1ed-b182804522cb",
      "metadata": {
        "id": "9cc98774-82b7-4c79-b1ed-b182804522cb"
      },
      "outputs": [],
      "source": [
        "import pandas as pd\n",
        "import numpy as np\n",
        "\n",
        "#subpress warnings\n",
        "def warn(*args, **kwargs):\n",
        "  pass\n",
        "import warnings\n",
        "warnings.warn = warn\n",
        "\n",
        "# Preprocessing allows us to standarsize our data\n",
        "from sklearn.preprocessing import StandardScaler, PolynomialFeatures\n",
        "# Allows us to split our data into training and testing data and evaluate data on k-fold\n",
        "from sklearn.model_selection import cross_val_score, train_test_split\n",
        "# from sklearn.model_selection import GridSearchCV\n",
        "from sklearn.model_selection import GridSearchCV\n",
        "from sklearn.linear_model import LinearRegression, Ridge\n",
        "# evaluate Linear regression model\n",
        "from sklearn.metrics import mean_squared_error\n",
        "# import deep learning model\n",
        "import tensorflow as tf\n",
        "\n",
        "\n",
        "import matplotlib.pyplot as plt\n",
        "%matplotlib inline"
      ]
    },
    {
      "cell_type": "markdown",
      "source": [
        "# Objectives\n",
        "* Preprocessing dataset for predictive analysis\n",
        "* Create traditional models\n",
        "* Create Deep learning model  \n",
        "> Extra step:\n",
        "  * Apply PCA and perform Deep learning model\n",
        "* Compare all models  "
      ],
      "metadata": {
        "id": "Vyg4njnamY9c"
      },
      "id": "Vyg4njnamY9c"
    },
    {
      "cell_type": "code",
      "source": [
        "from google.colab import drive\n",
        "drive.mount('/content/drive')"
      ],
      "metadata": {
        "colab": {
          "base_uri": "https://localhost:8080/"
        },
        "id": "1iSiphdgnIQM",
        "outputId": "0e13ac07-92fc-435d-846c-bca95ee9294b"
      },
      "id": "1iSiphdgnIQM",
      "execution_count": 3,
      "outputs": [
        {
          "output_type": "stream",
          "name": "stdout",
          "text": [
            "Drive already mounted at /content/drive; to attempt to forcibly remount, call drive.mount(\"/content/drive\", force_remount=True).\n"
          ]
        }
      ]
    },
    {
      "cell_type": "code",
      "execution_count": 4,
      "id": "8afeef07-65e3-4277-ae7b-c390012b2352",
      "metadata": {
        "id": "8afeef07-65e3-4277-ae7b-c390012b2352"
      },
      "outputs": [],
      "source": [
        "df = pd.read_csv('/content/drive/MyDrive/Colab Notebooks/Student Performance/Wrangling and EDA/pre-processed.csv')"
      ]
    },
    {
      "cell_type": "code",
      "source": [
        "df.isnull().sum().sum()"
      ],
      "metadata": {
        "colab": {
          "base_uri": "https://localhost:8080/"
        },
        "id": "TlFirvBt4xlX",
        "outputId": "e0a7878d-1046-4064-a4d7-9ba17649613d"
      },
      "id": "TlFirvBt4xlX",
      "execution_count": 5,
      "outputs": [
        {
          "output_type": "execute_result",
          "data": {
            "text/plain": [
              "0"
            ]
          },
          "metadata": {},
          "execution_count": 5
        }
      ]
    },
    {
      "cell_type": "code",
      "execution_count": 6,
      "id": "322d9cef-4a28-4780-b36f-94688b1422a5",
      "metadata": {
        "id": "322d9cef-4a28-4780-b36f-94688b1422a5"
      },
      "outputs": [],
      "source": [
        "X_df = df.drop(columns=['G3'])\n",
        "Y = df['G3']"
      ]
    },
    {
      "cell_type": "code",
      "execution_count": 7,
      "id": "205ad10b-c0d1-434e-9285-4cb9c96d9ad4",
      "metadata": {
        "id": "205ad10b-c0d1-434e-9285-4cb9c96d9ad4"
      },
      "outputs": [],
      "source": [
        "Y = Y.to_numpy()"
      ]
    },
    {
      "cell_type": "code",
      "execution_count": 8,
      "id": "26921103-3d0b-4bc3-bee9-e7ccb2000574",
      "metadata": {
        "colab": {
          "base_uri": "https://localhost:8080/",
          "height": 256
        },
        "id": "26921103-3d0b-4bc3-bee9-e7ccb2000574",
        "outputId": "2f920f5b-6516-4748-c52c-77d7704ad256"
      },
      "outputs": [
        {
          "output_type": "execute_result",
          "data": {
            "text/plain": [
              "  school sex  age address famsize Pstatus  Medu  Fedu     Mjob      Fjob  ...  \\\n",
              "0     GP   F   18       U     GT3       A     4     4  at_home   teacher  ...   \n",
              "1     GP   F   17       U     GT3       T     1     1  at_home     other  ...   \n",
              "2     GP   F   15       U     LE3       T     1     1  at_home     other  ...   \n",
              "3     GP   F   15       U     GT3       T     4     2   health  services  ...   \n",
              "4     GP   F   16       U     GT3       T     3     3    other     other  ...   \n",
              "\n",
              "  romantic    famrel  freetime  goout      Dalc      Walc health  absences  \\\n",
              "0       no  2.000000         3      4  1.000000  1.000000      3  2.000000   \n",
              "1       no  2.236068         3      3  1.000000  1.000000      3  1.414214   \n",
              "2       no  2.000000         3      2  1.414214  1.732051      3  2.449490   \n",
              "3      yes  1.732051         2      2  1.000000  1.000000      5  0.000000   \n",
              "4       no  2.000000         3      2  1.000000  1.414214      5  0.000000   \n",
              "\n",
              "  G3_bins Pre_score  \n",
              "0       1        11  \n",
              "1       1        20  \n",
              "2       1        25  \n",
              "3       1        28  \n",
              "4       1        24  \n",
              "\n",
              "[5 rows x 32 columns]"
            ],
            "text/html": [
              "\n",
              "  <div id=\"df-44204f6f-572d-4094-b747-6855f4ee8d01\" class=\"colab-df-container\">\n",
              "    <div>\n",
              "<style scoped>\n",
              "    .dataframe tbody tr th:only-of-type {\n",
              "        vertical-align: middle;\n",
              "    }\n",
              "\n",
              "    .dataframe tbody tr th {\n",
              "        vertical-align: top;\n",
              "    }\n",
              "\n",
              "    .dataframe thead th {\n",
              "        text-align: right;\n",
              "    }\n",
              "</style>\n",
              "<table border=\"1\" class=\"dataframe\">\n",
              "  <thead>\n",
              "    <tr style=\"text-align: right;\">\n",
              "      <th></th>\n",
              "      <th>school</th>\n",
              "      <th>sex</th>\n",
              "      <th>age</th>\n",
              "      <th>address</th>\n",
              "      <th>famsize</th>\n",
              "      <th>Pstatus</th>\n",
              "      <th>Medu</th>\n",
              "      <th>Fedu</th>\n",
              "      <th>Mjob</th>\n",
              "      <th>Fjob</th>\n",
              "      <th>...</th>\n",
              "      <th>romantic</th>\n",
              "      <th>famrel</th>\n",
              "      <th>freetime</th>\n",
              "      <th>goout</th>\n",
              "      <th>Dalc</th>\n",
              "      <th>Walc</th>\n",
              "      <th>health</th>\n",
              "      <th>absences</th>\n",
              "      <th>G3_bins</th>\n",
              "      <th>Pre_score</th>\n",
              "    </tr>\n",
              "  </thead>\n",
              "  <tbody>\n",
              "    <tr>\n",
              "      <th>0</th>\n",
              "      <td>GP</td>\n",
              "      <td>F</td>\n",
              "      <td>18</td>\n",
              "      <td>U</td>\n",
              "      <td>GT3</td>\n",
              "      <td>A</td>\n",
              "      <td>4</td>\n",
              "      <td>4</td>\n",
              "      <td>at_home</td>\n",
              "      <td>teacher</td>\n",
              "      <td>...</td>\n",
              "      <td>no</td>\n",
              "      <td>2.000000</td>\n",
              "      <td>3</td>\n",
              "      <td>4</td>\n",
              "      <td>1.000000</td>\n",
              "      <td>1.000000</td>\n",
              "      <td>3</td>\n",
              "      <td>2.000000</td>\n",
              "      <td>1</td>\n",
              "      <td>11</td>\n",
              "    </tr>\n",
              "    <tr>\n",
              "      <th>1</th>\n",
              "      <td>GP</td>\n",
              "      <td>F</td>\n",
              "      <td>17</td>\n",
              "      <td>U</td>\n",
              "      <td>GT3</td>\n",
              "      <td>T</td>\n",
              "      <td>1</td>\n",
              "      <td>1</td>\n",
              "      <td>at_home</td>\n",
              "      <td>other</td>\n",
              "      <td>...</td>\n",
              "      <td>no</td>\n",
              "      <td>2.236068</td>\n",
              "      <td>3</td>\n",
              "      <td>3</td>\n",
              "      <td>1.000000</td>\n",
              "      <td>1.000000</td>\n",
              "      <td>3</td>\n",
              "      <td>1.414214</td>\n",
              "      <td>1</td>\n",
              "      <td>20</td>\n",
              "    </tr>\n",
              "    <tr>\n",
              "      <th>2</th>\n",
              "      <td>GP</td>\n",
              "      <td>F</td>\n",
              "      <td>15</td>\n",
              "      <td>U</td>\n",
              "      <td>LE3</td>\n",
              "      <td>T</td>\n",
              "      <td>1</td>\n",
              "      <td>1</td>\n",
              "      <td>at_home</td>\n",
              "      <td>other</td>\n",
              "      <td>...</td>\n",
              "      <td>no</td>\n",
              "      <td>2.000000</td>\n",
              "      <td>3</td>\n",
              "      <td>2</td>\n",
              "      <td>1.414214</td>\n",
              "      <td>1.732051</td>\n",
              "      <td>3</td>\n",
              "      <td>2.449490</td>\n",
              "      <td>1</td>\n",
              "      <td>25</td>\n",
              "    </tr>\n",
              "    <tr>\n",
              "      <th>3</th>\n",
              "      <td>GP</td>\n",
              "      <td>F</td>\n",
              "      <td>15</td>\n",
              "      <td>U</td>\n",
              "      <td>GT3</td>\n",
              "      <td>T</td>\n",
              "      <td>4</td>\n",
              "      <td>2</td>\n",
              "      <td>health</td>\n",
              "      <td>services</td>\n",
              "      <td>...</td>\n",
              "      <td>yes</td>\n",
              "      <td>1.732051</td>\n",
              "      <td>2</td>\n",
              "      <td>2</td>\n",
              "      <td>1.000000</td>\n",
              "      <td>1.000000</td>\n",
              "      <td>5</td>\n",
              "      <td>0.000000</td>\n",
              "      <td>1</td>\n",
              "      <td>28</td>\n",
              "    </tr>\n",
              "    <tr>\n",
              "      <th>4</th>\n",
              "      <td>GP</td>\n",
              "      <td>F</td>\n",
              "      <td>16</td>\n",
              "      <td>U</td>\n",
              "      <td>GT3</td>\n",
              "      <td>T</td>\n",
              "      <td>3</td>\n",
              "      <td>3</td>\n",
              "      <td>other</td>\n",
              "      <td>other</td>\n",
              "      <td>...</td>\n",
              "      <td>no</td>\n",
              "      <td>2.000000</td>\n",
              "      <td>3</td>\n",
              "      <td>2</td>\n",
              "      <td>1.000000</td>\n",
              "      <td>1.414214</td>\n",
              "      <td>5</td>\n",
              "      <td>0.000000</td>\n",
              "      <td>1</td>\n",
              "      <td>24</td>\n",
              "    </tr>\n",
              "  </tbody>\n",
              "</table>\n",
              "<p>5 rows × 32 columns</p>\n",
              "</div>\n",
              "    <div class=\"colab-df-buttons\">\n",
              "\n",
              "  <div class=\"colab-df-container\">\n",
              "    <button class=\"colab-df-convert\" onclick=\"convertToInteractive('df-44204f6f-572d-4094-b747-6855f4ee8d01')\"\n",
              "            title=\"Convert this dataframe to an interactive table.\"\n",
              "            style=\"display:none;\">\n",
              "\n",
              "  <svg xmlns=\"http://www.w3.org/2000/svg\" height=\"24px\" viewBox=\"0 -960 960 960\">\n",
              "    <path d=\"M120-120v-720h720v720H120Zm60-500h600v-160H180v160Zm220 220h160v-160H400v160Zm0 220h160v-160H400v160ZM180-400h160v-160H180v160Zm440 0h160v-160H620v160ZM180-180h160v-160H180v160Zm440 0h160v-160H620v160Z\"/>\n",
              "  </svg>\n",
              "    </button>\n",
              "\n",
              "  <style>\n",
              "    .colab-df-container {\n",
              "      display:flex;\n",
              "      gap: 12px;\n",
              "    }\n",
              "\n",
              "    .colab-df-convert {\n",
              "      background-color: #E8F0FE;\n",
              "      border: none;\n",
              "      border-radius: 50%;\n",
              "      cursor: pointer;\n",
              "      display: none;\n",
              "      fill: #1967D2;\n",
              "      height: 32px;\n",
              "      padding: 0 0 0 0;\n",
              "      width: 32px;\n",
              "    }\n",
              "\n",
              "    .colab-df-convert:hover {\n",
              "      background-color: #E2EBFA;\n",
              "      box-shadow: 0px 1px 2px rgba(60, 64, 67, 0.3), 0px 1px 3px 1px rgba(60, 64, 67, 0.15);\n",
              "      fill: #174EA6;\n",
              "    }\n",
              "\n",
              "    .colab-df-buttons div {\n",
              "      margin-bottom: 4px;\n",
              "    }\n",
              "\n",
              "    [theme=dark] .colab-df-convert {\n",
              "      background-color: #3B4455;\n",
              "      fill: #D2E3FC;\n",
              "    }\n",
              "\n",
              "    [theme=dark] .colab-df-convert:hover {\n",
              "      background-color: #434B5C;\n",
              "      box-shadow: 0px 1px 3px 1px rgba(0, 0, 0, 0.15);\n",
              "      filter: drop-shadow(0px 1px 2px rgba(0, 0, 0, 0.3));\n",
              "      fill: #FFFFFF;\n",
              "    }\n",
              "  </style>\n",
              "\n",
              "    <script>\n",
              "      const buttonEl =\n",
              "        document.querySelector('#df-44204f6f-572d-4094-b747-6855f4ee8d01 button.colab-df-convert');\n",
              "      buttonEl.style.display =\n",
              "        google.colab.kernel.accessAllowed ? 'block' : 'none';\n",
              "\n",
              "      async function convertToInteractive(key) {\n",
              "        const element = document.querySelector('#df-44204f6f-572d-4094-b747-6855f4ee8d01');\n",
              "        const dataTable =\n",
              "          await google.colab.kernel.invokeFunction('convertToInteractive',\n",
              "                                                    [key], {});\n",
              "        if (!dataTable) return;\n",
              "\n",
              "        const docLinkHtml = 'Like what you see? Visit the ' +\n",
              "          '<a target=\"_blank\" href=https://colab.research.google.com/notebooks/data_table.ipynb>data table notebook</a>'\n",
              "          + ' to learn more about interactive tables.';\n",
              "        element.innerHTML = '';\n",
              "        dataTable['output_type'] = 'display_data';\n",
              "        await google.colab.output.renderOutput(dataTable, element);\n",
              "        const docLink = document.createElement('div');\n",
              "        docLink.innerHTML = docLinkHtml;\n",
              "        element.appendChild(docLink);\n",
              "      }\n",
              "    </script>\n",
              "  </div>\n",
              "\n",
              "\n",
              "<div id=\"df-559eefc3-389f-457d-8e54-881dbf6893c0\">\n",
              "  <button class=\"colab-df-quickchart\" onclick=\"quickchart('df-559eefc3-389f-457d-8e54-881dbf6893c0')\"\n",
              "            title=\"Suggest charts.\"\n",
              "            style=\"display:none;\">\n",
              "\n",
              "<svg xmlns=\"http://www.w3.org/2000/svg\" height=\"24px\"viewBox=\"0 0 24 24\"\n",
              "     width=\"24px\">\n",
              "    <g>\n",
              "        <path d=\"M19 3H5c-1.1 0-2 .9-2 2v14c0 1.1.9 2 2 2h14c1.1 0 2-.9 2-2V5c0-1.1-.9-2-2-2zM9 17H7v-7h2v7zm4 0h-2V7h2v10zm4 0h-2v-4h2v4z\"/>\n",
              "    </g>\n",
              "</svg>\n",
              "  </button>\n",
              "\n",
              "<style>\n",
              "  .colab-df-quickchart {\n",
              "      --bg-color: #E8F0FE;\n",
              "      --fill-color: #1967D2;\n",
              "      --hover-bg-color: #E2EBFA;\n",
              "      --hover-fill-color: #174EA6;\n",
              "      --disabled-fill-color: #AAA;\n",
              "      --disabled-bg-color: #DDD;\n",
              "  }\n",
              "\n",
              "  [theme=dark] .colab-df-quickchart {\n",
              "      --bg-color: #3B4455;\n",
              "      --fill-color: #D2E3FC;\n",
              "      --hover-bg-color: #434B5C;\n",
              "      --hover-fill-color: #FFFFFF;\n",
              "      --disabled-bg-color: #3B4455;\n",
              "      --disabled-fill-color: #666;\n",
              "  }\n",
              "\n",
              "  .colab-df-quickchart {\n",
              "    background-color: var(--bg-color);\n",
              "    border: none;\n",
              "    border-radius: 50%;\n",
              "    cursor: pointer;\n",
              "    display: none;\n",
              "    fill: var(--fill-color);\n",
              "    height: 32px;\n",
              "    padding: 0;\n",
              "    width: 32px;\n",
              "  }\n",
              "\n",
              "  .colab-df-quickchart:hover {\n",
              "    background-color: var(--hover-bg-color);\n",
              "    box-shadow: 0 1px 2px rgba(60, 64, 67, 0.3), 0 1px 3px 1px rgba(60, 64, 67, 0.15);\n",
              "    fill: var(--button-hover-fill-color);\n",
              "  }\n",
              "\n",
              "  .colab-df-quickchart-complete:disabled,\n",
              "  .colab-df-quickchart-complete:disabled:hover {\n",
              "    background-color: var(--disabled-bg-color);\n",
              "    fill: var(--disabled-fill-color);\n",
              "    box-shadow: none;\n",
              "  }\n",
              "\n",
              "  .colab-df-spinner {\n",
              "    border: 2px solid var(--fill-color);\n",
              "    border-color: transparent;\n",
              "    border-bottom-color: var(--fill-color);\n",
              "    animation:\n",
              "      spin 1s steps(1) infinite;\n",
              "  }\n",
              "\n",
              "  @keyframes spin {\n",
              "    0% {\n",
              "      border-color: transparent;\n",
              "      border-bottom-color: var(--fill-color);\n",
              "      border-left-color: var(--fill-color);\n",
              "    }\n",
              "    20% {\n",
              "      border-color: transparent;\n",
              "      border-left-color: var(--fill-color);\n",
              "      border-top-color: var(--fill-color);\n",
              "    }\n",
              "    30% {\n",
              "      border-color: transparent;\n",
              "      border-left-color: var(--fill-color);\n",
              "      border-top-color: var(--fill-color);\n",
              "      border-right-color: var(--fill-color);\n",
              "    }\n",
              "    40% {\n",
              "      border-color: transparent;\n",
              "      border-right-color: var(--fill-color);\n",
              "      border-top-color: var(--fill-color);\n",
              "    }\n",
              "    60% {\n",
              "      border-color: transparent;\n",
              "      border-right-color: var(--fill-color);\n",
              "    }\n",
              "    80% {\n",
              "      border-color: transparent;\n",
              "      border-right-color: var(--fill-color);\n",
              "      border-bottom-color: var(--fill-color);\n",
              "    }\n",
              "    90% {\n",
              "      border-color: transparent;\n",
              "      border-bottom-color: var(--fill-color);\n",
              "    }\n",
              "  }\n",
              "</style>\n",
              "\n",
              "  <script>\n",
              "    async function quickchart(key) {\n",
              "      const quickchartButtonEl =\n",
              "        document.querySelector('#' + key + ' button');\n",
              "      quickchartButtonEl.disabled = true;  // To prevent multiple clicks.\n",
              "      quickchartButtonEl.classList.add('colab-df-spinner');\n",
              "      try {\n",
              "        const charts = await google.colab.kernel.invokeFunction(\n",
              "            'suggestCharts', [key], {});\n",
              "      } catch (error) {\n",
              "        console.error('Error during call to suggestCharts:', error);\n",
              "      }\n",
              "      quickchartButtonEl.classList.remove('colab-df-spinner');\n",
              "      quickchartButtonEl.classList.add('colab-df-quickchart-complete');\n",
              "    }\n",
              "    (() => {\n",
              "      let quickchartButtonEl =\n",
              "        document.querySelector('#df-559eefc3-389f-457d-8e54-881dbf6893c0 button');\n",
              "      quickchartButtonEl.style.display =\n",
              "        google.colab.kernel.accessAllowed ? 'block' : 'none';\n",
              "    })();\n",
              "  </script>\n",
              "</div>\n",
              "    </div>\n",
              "  </div>\n"
            ]
          },
          "metadata": {},
          "execution_count": 8
        }
      ],
      "source": [
        "X_df.head()"
      ]
    },
    {
      "cell_type": "markdown",
      "source": [
        "we need to change categorical variables to numeric variables"
      ],
      "metadata": {
        "id": "vbEiWCLhqdPH"
      },
      "id": "vbEiWCLhqdPH"
    },
    {
      "cell_type": "code",
      "source": [
        "X_df.select_dtypes(include=\"O\").describe()"
      ],
      "metadata": {
        "colab": {
          "base_uri": "https://localhost:8080/",
          "height": 195
        },
        "id": "rqLFNak9qc84",
        "outputId": "1044a348-5b0e-4927-dac5-81c91d95aed3"
      },
      "id": "rqLFNak9qc84",
      "execution_count": 9,
      "outputs": [
        {
          "output_type": "execute_result",
          "data": {
            "text/plain": [
              "       school   sex address famsize Pstatus   Mjob   Fjob  reason guardian  \\\n",
              "count    1044  1044    1044    1044    1044   1044   1044    1044     1044   \n",
              "unique      2     2       2       2       2      5      5       4        3   \n",
              "top        GP     F       U     GT3       T  other  other  course   mother   \n",
              "freq      772   591     759     738     923    399    584     430      728   \n",
              "\n",
              "       schoolsup famsup  paid activities nursery higher internet romantic  \n",
              "count       1044   1044  1044       1044    1044   1044     1044     1044  \n",
              "unique         2      2     2          2       2      2        2        2  \n",
              "top           no    yes    no         no     yes    yes      yes       no  \n",
              "freq         925    640   824        528     835    955      827      673  "
            ],
            "text/html": [
              "\n",
              "  <div id=\"df-d118e1bb-6c32-4daf-80dd-03bf5a901d05\" class=\"colab-df-container\">\n",
              "    <div>\n",
              "<style scoped>\n",
              "    .dataframe tbody tr th:only-of-type {\n",
              "        vertical-align: middle;\n",
              "    }\n",
              "\n",
              "    .dataframe tbody tr th {\n",
              "        vertical-align: top;\n",
              "    }\n",
              "\n",
              "    .dataframe thead th {\n",
              "        text-align: right;\n",
              "    }\n",
              "</style>\n",
              "<table border=\"1\" class=\"dataframe\">\n",
              "  <thead>\n",
              "    <tr style=\"text-align: right;\">\n",
              "      <th></th>\n",
              "      <th>school</th>\n",
              "      <th>sex</th>\n",
              "      <th>address</th>\n",
              "      <th>famsize</th>\n",
              "      <th>Pstatus</th>\n",
              "      <th>Mjob</th>\n",
              "      <th>Fjob</th>\n",
              "      <th>reason</th>\n",
              "      <th>guardian</th>\n",
              "      <th>schoolsup</th>\n",
              "      <th>famsup</th>\n",
              "      <th>paid</th>\n",
              "      <th>activities</th>\n",
              "      <th>nursery</th>\n",
              "      <th>higher</th>\n",
              "      <th>internet</th>\n",
              "      <th>romantic</th>\n",
              "    </tr>\n",
              "  </thead>\n",
              "  <tbody>\n",
              "    <tr>\n",
              "      <th>count</th>\n",
              "      <td>1044</td>\n",
              "      <td>1044</td>\n",
              "      <td>1044</td>\n",
              "      <td>1044</td>\n",
              "      <td>1044</td>\n",
              "      <td>1044</td>\n",
              "      <td>1044</td>\n",
              "      <td>1044</td>\n",
              "      <td>1044</td>\n",
              "      <td>1044</td>\n",
              "      <td>1044</td>\n",
              "      <td>1044</td>\n",
              "      <td>1044</td>\n",
              "      <td>1044</td>\n",
              "      <td>1044</td>\n",
              "      <td>1044</td>\n",
              "      <td>1044</td>\n",
              "    </tr>\n",
              "    <tr>\n",
              "      <th>unique</th>\n",
              "      <td>2</td>\n",
              "      <td>2</td>\n",
              "      <td>2</td>\n",
              "      <td>2</td>\n",
              "      <td>2</td>\n",
              "      <td>5</td>\n",
              "      <td>5</td>\n",
              "      <td>4</td>\n",
              "      <td>3</td>\n",
              "      <td>2</td>\n",
              "      <td>2</td>\n",
              "      <td>2</td>\n",
              "      <td>2</td>\n",
              "      <td>2</td>\n",
              "      <td>2</td>\n",
              "      <td>2</td>\n",
              "      <td>2</td>\n",
              "    </tr>\n",
              "    <tr>\n",
              "      <th>top</th>\n",
              "      <td>GP</td>\n",
              "      <td>F</td>\n",
              "      <td>U</td>\n",
              "      <td>GT3</td>\n",
              "      <td>T</td>\n",
              "      <td>other</td>\n",
              "      <td>other</td>\n",
              "      <td>course</td>\n",
              "      <td>mother</td>\n",
              "      <td>no</td>\n",
              "      <td>yes</td>\n",
              "      <td>no</td>\n",
              "      <td>no</td>\n",
              "      <td>yes</td>\n",
              "      <td>yes</td>\n",
              "      <td>yes</td>\n",
              "      <td>no</td>\n",
              "    </tr>\n",
              "    <tr>\n",
              "      <th>freq</th>\n",
              "      <td>772</td>\n",
              "      <td>591</td>\n",
              "      <td>759</td>\n",
              "      <td>738</td>\n",
              "      <td>923</td>\n",
              "      <td>399</td>\n",
              "      <td>584</td>\n",
              "      <td>430</td>\n",
              "      <td>728</td>\n",
              "      <td>925</td>\n",
              "      <td>640</td>\n",
              "      <td>824</td>\n",
              "      <td>528</td>\n",
              "      <td>835</td>\n",
              "      <td>955</td>\n",
              "      <td>827</td>\n",
              "      <td>673</td>\n",
              "    </tr>\n",
              "  </tbody>\n",
              "</table>\n",
              "</div>\n",
              "    <div class=\"colab-df-buttons\">\n",
              "\n",
              "  <div class=\"colab-df-container\">\n",
              "    <button class=\"colab-df-convert\" onclick=\"convertToInteractive('df-d118e1bb-6c32-4daf-80dd-03bf5a901d05')\"\n",
              "            title=\"Convert this dataframe to an interactive table.\"\n",
              "            style=\"display:none;\">\n",
              "\n",
              "  <svg xmlns=\"http://www.w3.org/2000/svg\" height=\"24px\" viewBox=\"0 -960 960 960\">\n",
              "    <path d=\"M120-120v-720h720v720H120Zm60-500h600v-160H180v160Zm220 220h160v-160H400v160Zm0 220h160v-160H400v160ZM180-400h160v-160H180v160Zm440 0h160v-160H620v160ZM180-180h160v-160H180v160Zm440 0h160v-160H620v160Z\"/>\n",
              "  </svg>\n",
              "    </button>\n",
              "\n",
              "  <style>\n",
              "    .colab-df-container {\n",
              "      display:flex;\n",
              "      gap: 12px;\n",
              "    }\n",
              "\n",
              "    .colab-df-convert {\n",
              "      background-color: #E8F0FE;\n",
              "      border: none;\n",
              "      border-radius: 50%;\n",
              "      cursor: pointer;\n",
              "      display: none;\n",
              "      fill: #1967D2;\n",
              "      height: 32px;\n",
              "      padding: 0 0 0 0;\n",
              "      width: 32px;\n",
              "    }\n",
              "\n",
              "    .colab-df-convert:hover {\n",
              "      background-color: #E2EBFA;\n",
              "      box-shadow: 0px 1px 2px rgba(60, 64, 67, 0.3), 0px 1px 3px 1px rgba(60, 64, 67, 0.15);\n",
              "      fill: #174EA6;\n",
              "    }\n",
              "\n",
              "    .colab-df-buttons div {\n",
              "      margin-bottom: 4px;\n",
              "    }\n",
              "\n",
              "    [theme=dark] .colab-df-convert {\n",
              "      background-color: #3B4455;\n",
              "      fill: #D2E3FC;\n",
              "    }\n",
              "\n",
              "    [theme=dark] .colab-df-convert:hover {\n",
              "      background-color: #434B5C;\n",
              "      box-shadow: 0px 1px 3px 1px rgba(0, 0, 0, 0.15);\n",
              "      filter: drop-shadow(0px 1px 2px rgba(0, 0, 0, 0.3));\n",
              "      fill: #FFFFFF;\n",
              "    }\n",
              "  </style>\n",
              "\n",
              "    <script>\n",
              "      const buttonEl =\n",
              "        document.querySelector('#df-d118e1bb-6c32-4daf-80dd-03bf5a901d05 button.colab-df-convert');\n",
              "      buttonEl.style.display =\n",
              "        google.colab.kernel.accessAllowed ? 'block' : 'none';\n",
              "\n",
              "      async function convertToInteractive(key) {\n",
              "        const element = document.querySelector('#df-d118e1bb-6c32-4daf-80dd-03bf5a901d05');\n",
              "        const dataTable =\n",
              "          await google.colab.kernel.invokeFunction('convertToInteractive',\n",
              "                                                    [key], {});\n",
              "        if (!dataTable) return;\n",
              "\n",
              "        const docLinkHtml = 'Like what you see? Visit the ' +\n",
              "          '<a target=\"_blank\" href=https://colab.research.google.com/notebooks/data_table.ipynb>data table notebook</a>'\n",
              "          + ' to learn more about interactive tables.';\n",
              "        element.innerHTML = '';\n",
              "        dataTable['output_type'] = 'display_data';\n",
              "        await google.colab.output.renderOutput(dataTable, element);\n",
              "        const docLink = document.createElement('div');\n",
              "        docLink.innerHTML = docLinkHtml;\n",
              "        element.appendChild(docLink);\n",
              "      }\n",
              "    </script>\n",
              "  </div>\n",
              "\n",
              "\n",
              "<div id=\"df-d7d172b9-089c-4991-b986-f0fd096fc567\">\n",
              "  <button class=\"colab-df-quickchart\" onclick=\"quickchart('df-d7d172b9-089c-4991-b986-f0fd096fc567')\"\n",
              "            title=\"Suggest charts.\"\n",
              "            style=\"display:none;\">\n",
              "\n",
              "<svg xmlns=\"http://www.w3.org/2000/svg\" height=\"24px\"viewBox=\"0 0 24 24\"\n",
              "     width=\"24px\">\n",
              "    <g>\n",
              "        <path d=\"M19 3H5c-1.1 0-2 .9-2 2v14c0 1.1.9 2 2 2h14c1.1 0 2-.9 2-2V5c0-1.1-.9-2-2-2zM9 17H7v-7h2v7zm4 0h-2V7h2v10zm4 0h-2v-4h2v4z\"/>\n",
              "    </g>\n",
              "</svg>\n",
              "  </button>\n",
              "\n",
              "<style>\n",
              "  .colab-df-quickchart {\n",
              "      --bg-color: #E8F0FE;\n",
              "      --fill-color: #1967D2;\n",
              "      --hover-bg-color: #E2EBFA;\n",
              "      --hover-fill-color: #174EA6;\n",
              "      --disabled-fill-color: #AAA;\n",
              "      --disabled-bg-color: #DDD;\n",
              "  }\n",
              "\n",
              "  [theme=dark] .colab-df-quickchart {\n",
              "      --bg-color: #3B4455;\n",
              "      --fill-color: #D2E3FC;\n",
              "      --hover-bg-color: #434B5C;\n",
              "      --hover-fill-color: #FFFFFF;\n",
              "      --disabled-bg-color: #3B4455;\n",
              "      --disabled-fill-color: #666;\n",
              "  }\n",
              "\n",
              "  .colab-df-quickchart {\n",
              "    background-color: var(--bg-color);\n",
              "    border: none;\n",
              "    border-radius: 50%;\n",
              "    cursor: pointer;\n",
              "    display: none;\n",
              "    fill: var(--fill-color);\n",
              "    height: 32px;\n",
              "    padding: 0;\n",
              "    width: 32px;\n",
              "  }\n",
              "\n",
              "  .colab-df-quickchart:hover {\n",
              "    background-color: var(--hover-bg-color);\n",
              "    box-shadow: 0 1px 2px rgba(60, 64, 67, 0.3), 0 1px 3px 1px rgba(60, 64, 67, 0.15);\n",
              "    fill: var(--button-hover-fill-color);\n",
              "  }\n",
              "\n",
              "  .colab-df-quickchart-complete:disabled,\n",
              "  .colab-df-quickchart-complete:disabled:hover {\n",
              "    background-color: var(--disabled-bg-color);\n",
              "    fill: var(--disabled-fill-color);\n",
              "    box-shadow: none;\n",
              "  }\n",
              "\n",
              "  .colab-df-spinner {\n",
              "    border: 2px solid var(--fill-color);\n",
              "    border-color: transparent;\n",
              "    border-bottom-color: var(--fill-color);\n",
              "    animation:\n",
              "      spin 1s steps(1) infinite;\n",
              "  }\n",
              "\n",
              "  @keyframes spin {\n",
              "    0% {\n",
              "      border-color: transparent;\n",
              "      border-bottom-color: var(--fill-color);\n",
              "      border-left-color: var(--fill-color);\n",
              "    }\n",
              "    20% {\n",
              "      border-color: transparent;\n",
              "      border-left-color: var(--fill-color);\n",
              "      border-top-color: var(--fill-color);\n",
              "    }\n",
              "    30% {\n",
              "      border-color: transparent;\n",
              "      border-left-color: var(--fill-color);\n",
              "      border-top-color: var(--fill-color);\n",
              "      border-right-color: var(--fill-color);\n",
              "    }\n",
              "    40% {\n",
              "      border-color: transparent;\n",
              "      border-right-color: var(--fill-color);\n",
              "      border-top-color: var(--fill-color);\n",
              "    }\n",
              "    60% {\n",
              "      border-color: transparent;\n",
              "      border-right-color: var(--fill-color);\n",
              "    }\n",
              "    80% {\n",
              "      border-color: transparent;\n",
              "      border-right-color: var(--fill-color);\n",
              "      border-bottom-color: var(--fill-color);\n",
              "    }\n",
              "    90% {\n",
              "      border-color: transparent;\n",
              "      border-bottom-color: var(--fill-color);\n",
              "    }\n",
              "  }\n",
              "</style>\n",
              "\n",
              "  <script>\n",
              "    async function quickchart(key) {\n",
              "      const quickchartButtonEl =\n",
              "        document.querySelector('#' + key + ' button');\n",
              "      quickchartButtonEl.disabled = true;  // To prevent multiple clicks.\n",
              "      quickchartButtonEl.classList.add('colab-df-spinner');\n",
              "      try {\n",
              "        const charts = await google.colab.kernel.invokeFunction(\n",
              "            'suggestCharts', [key], {});\n",
              "      } catch (error) {\n",
              "        console.error('Error during call to suggestCharts:', error);\n",
              "      }\n",
              "      quickchartButtonEl.classList.remove('colab-df-spinner');\n",
              "      quickchartButtonEl.classList.add('colab-df-quickchart-complete');\n",
              "    }\n",
              "    (() => {\n",
              "      let quickchartButtonEl =\n",
              "        document.querySelector('#df-d7d172b9-089c-4991-b986-f0fd096fc567 button');\n",
              "      quickchartButtonEl.style.display =\n",
              "        google.colab.kernel.accessAllowed ? 'block' : 'none';\n",
              "    })();\n",
              "  </script>\n",
              "</div>\n",
              "    </div>\n",
              "  </div>\n"
            ]
          },
          "metadata": {},
          "execution_count": 9
        }
      ]
    },
    {
      "cell_type": "markdown",
      "source": [
        "there is no ordinal variables therefore we use `get_dummies` or binary one hot encoder."
      ],
      "metadata": {
        "id": "W6tZe2HPq25j"
      },
      "id": "W6tZe2HPq25j"
    },
    {
      "cell_type": "code",
      "source": [
        "pd.get_dummies(X_df.select_dtypes(include=\"O\")).columns"
      ],
      "metadata": {
        "colab": {
          "base_uri": "https://localhost:8080/"
        },
        "id": "vZtqu7tmrHms",
        "outputId": "adb9cc0e-0316-4ff0-8d69-0f5fdfe4e4f2"
      },
      "id": "vZtqu7tmrHms",
      "execution_count": 10,
      "outputs": [
        {
          "output_type": "execute_result",
          "data": {
            "text/plain": [
              "Index(['school_GP', 'school_MS', 'sex_F', 'sex_M', 'address_R', 'address_U',\n",
              "       'famsize_GT3', 'famsize_LE3', 'Pstatus_A', 'Pstatus_T', 'Mjob_at_home',\n",
              "       'Mjob_health', 'Mjob_other', 'Mjob_services', 'Mjob_teacher',\n",
              "       'Fjob_at_home', 'Fjob_health', 'Fjob_other', 'Fjob_services',\n",
              "       'Fjob_teacher', 'reason_course', 'reason_home', 'reason_other',\n",
              "       'reason_reputation', 'guardian_father', 'guardian_mother',\n",
              "       'guardian_other', 'schoolsup_no', 'schoolsup_yes', 'famsup_no',\n",
              "       'famsup_yes', 'paid_no', 'paid_yes', 'activities_no', 'activities_yes',\n",
              "       'nursery_no', 'nursery_yes', 'higher_no', 'higher_yes', 'internet_no',\n",
              "       'internet_yes', 'romantic_no', 'romantic_yes'],\n",
              "      dtype='object')"
            ]
          },
          "metadata": {},
          "execution_count": 10
        }
      ]
    },
    {
      "cell_type": "code",
      "source": [
        "X = pd.get_dummies(X_df)"
      ],
      "metadata": {
        "id": "4TDcAPjCrdrG"
      },
      "id": "4TDcAPjCrdrG",
      "execution_count": 11,
      "outputs": []
    },
    {
      "cell_type": "code",
      "source": [
        "X.isnull().sum().sum(), np.isnan(Y).sum()"
      ],
      "metadata": {
        "colab": {
          "base_uri": "https://localhost:8080/"
        },
        "id": "sLEe9Ntx46QQ",
        "outputId": "5c768bce-362e-4436-c881-4d8d5836085a"
      },
      "id": "sLEe9Ntx46QQ",
      "execution_count": 12,
      "outputs": [
        {
          "output_type": "execute_result",
          "data": {
            "text/plain": [
              "(0, 0)"
            ]
          },
          "metadata": {},
          "execution_count": 12
        }
      ]
    },
    {
      "cell_type": "markdown",
      "source": [
        "Split dataset"
      ],
      "metadata": {
        "id": "tWXB8_eDslCJ"
      },
      "id": "tWXB8_eDslCJ"
    },
    {
      "cell_type": "code",
      "source": [
        "X_train, X_test, y_train, y_test = train_test_split(X, Y, test_size=0.3, random_state=432)"
      ],
      "metadata": {
        "id": "_aKvwXR4smGY"
      },
      "id": "_aKvwXR4smGY",
      "execution_count": 23,
      "outputs": []
    },
    {
      "cell_type": "code",
      "source": [
        "# X_train"
      ],
      "metadata": {
        "id": "ObqhV_8W6bu4"
      },
      "id": "ObqhV_8W6bu4",
      "execution_count": 24,
      "outputs": []
    },
    {
      "cell_type": "markdown",
      "source": [
        "To prevent data leakage we fit scaler on train set"
      ],
      "metadata": {
        "id": "YCKukCwlsa1O"
      },
      "id": "YCKukCwlsa1O"
    },
    {
      "cell_type": "code",
      "execution_count": 25,
      "id": "9cb8f240-656b-40bb-a83c-dd4ea8c9d0e8",
      "metadata": {
        "id": "9cb8f240-656b-40bb-a83c-dd4ea8c9d0e8"
      },
      "outputs": [],
      "source": [
        "# standardaize and normalize\n",
        "X_scaler = StandardScaler()\n",
        "y_scaler = StandardScaler()\n",
        "X_train = X_scaler.fit_transform(X_train)\n",
        "X_test = X_scaler.transform(X_test)\n",
        "y_train = y_scaler.fit_transform(y_train.reshape(-1,1))\n",
        "y_test = y_scaler.transform(y_test.reshape(-1,1))"
      ]
    },
    {
      "cell_type": "code",
      "source": [
        "X_test.shape, y_test.shape, X_train.shape, y_train.shape"
      ],
      "metadata": {
        "colab": {
          "base_uri": "https://localhost:8080/"
        },
        "id": "iZoCSUPEuCXQ",
        "outputId": "cfb77e7b-34bd-4d74-8fad-71a78d0a8381"
      },
      "id": "iZoCSUPEuCXQ",
      "execution_count": 16,
      "outputs": [
        {
          "output_type": "execute_result",
          "data": {
            "text/plain": [
              "((314, 58), (314, 1), (730, 58), (730, 1))"
            ]
          },
          "metadata": {},
          "execution_count": 16
        }
      ]
    },
    {
      "cell_type": "markdown",
      "id": "7450e1c8-8878-4714-a1f1-a679f966fd92",
      "metadata": {
        "id": "7450e1c8-8878-4714-a1f1-a679f966fd92"
      },
      "source": [
        "# Linear regreassion"
      ]
    },
    {
      "cell_type": "markdown",
      "id": "6b480430-e03d-4dbc-885a-b00e8cccb41c",
      "metadata": {
        "id": "6b480430-e03d-4dbc-885a-b00e8cccb41c"
      },
      "source": [
        "### Polynomial Regression"
      ]
    },
    {
      "cell_type": "code",
      "execution_count": 17,
      "id": "6947c6c6-84e8-40cf-84e6-77eae74bb98d",
      "metadata": {
        "id": "6947c6c6-84e8-40cf-84e6-77eae74bb98d"
      },
      "outputs": [],
      "source": [
        "mse_list = []\n",
        "r2_list = []"
      ]
    },
    {
      "cell_type": "code",
      "source": [
        "# x_train, x_test, = train_test_split(X, test_size=0.2, random_state=4)"
      ],
      "metadata": {
        "id": "2z9Z8UPc51vj"
      },
      "id": "2z9Z8UPc51vj",
      "execution_count": 18,
      "outputs": []
    },
    {
      "cell_type": "code",
      "execution_count": 19,
      "id": "52bb276e-0b1f-4f22-b304-0df1e61250ba",
      "metadata": {
        "colab": {
          "base_uri": "https://localhost:8080/"
        },
        "id": "52bb276e-0b1f-4f22-b304-0df1e61250ba",
        "outputId": "3bf4b5d3-e752-4915-8b85-46875e20180a"
      },
      "outputs": [
        {
          "output_type": "stream",
          "name": "stdout",
          "text": [
            "Degree 2\n",
            "test set: (314, 1770), (314, 1)\n",
            "train set: (730, 1770), (730, 1)\n",
            "Mean Square Error: 8.175626748405478e+18, R2_Score: -7.630876494421489e+18\n",
            "-------------------------------\n",
            "Degree 3\n",
            "test set: (314, 35990), (314, 1)\n",
            "train set: (730, 35990), (730, 1)\n",
            "Mean Square Error: 0.7496393612959689, R2_Score: 0.3003098652317735\n",
            "-------------------------------\n"
          ]
        }
      ],
      "source": [
        "mse_poly = []\n",
        "r2_poly = []\n",
        "Xpoly_scaler = StandardScaler()\n",
        "for i in range(2,4):\n",
        "    print(f'Degree {i}')\n",
        "    X_poly = PolynomialFeatures(degree=i).fit_transform(X)\n",
        "    x_train, x_test = train_test_split(X_poly, test_size=0.3, random_state=432)\n",
        "    x_train = Xpoly_scaler.fit_transform(x_train)\n",
        "    x_test = Xpoly_scaler.transform(x_test)\n",
        "    print(f\"test set: {x_test.shape}, {y_test.shape}\")\n",
        "    print(f\"train set: {x_train.shape}, {y_train.shape}\")\n",
        "    ml_poly = LinearRegression()\n",
        "    ml_poly.fit(x_train, y_train)\n",
        "    score = ml_poly.score(x_test, y_test)\n",
        "    mse = mean_squared_error(y_pred=ml_poly.predict(x_test), y_true=y_test)\n",
        "    mse_poly.append(mse)\n",
        "    r2_poly.append(score)\n",
        "    print(f'Mean Square Error: {mse}, R2_Score: {score}')\n",
        "    print('-------------------------------')\n",
        "\n",
        "mse_list.append(mse_poly)\n",
        "r2_list.append(r2_poly)"
      ]
    },
    {
      "cell_type": "code",
      "execution_count": 20,
      "id": "d155f112-3018-44bf-ad12-45a4ecf6b594",
      "metadata": {
        "tags": [],
        "id": "d155f112-3018-44bf-ad12-45a4ecf6b594"
      },
      "outputs": [],
      "source": [
        "# degree 4 and 5 will have to much fetures and need more resourse for computing"
      ]
    },
    {
      "cell_type": "markdown",
      "id": "7858ff75-398e-4a08-b25b-1c774191ff14",
      "metadata": {
        "id": "7858ff75-398e-4a08-b25b-1c774191ff14"
      },
      "source": [
        "### Multiple Linear Regression"
      ]
    },
    {
      "cell_type": "code",
      "execution_count": 21,
      "id": "d8f764cb-1089-4f84-b496-46efbded3bbe",
      "metadata": {
        "colab": {
          "base_uri": "https://localhost:8080/"
        },
        "id": "d8f764cb-1089-4f84-b496-46efbded3bbe",
        "outputId": "bb295447-dc3a-4225-9be3-af88ee52d8b0"
      },
      "outputs": [
        {
          "output_type": "stream",
          "name": "stdout",
          "text": [
            "test set: (314, 58), (314, 1)\n",
            "train set: (730, 58), (730, 1)\n",
            "Mean Square Error: 0.39912529601404895, R2_Score: 0.6274688249097681\n"
          ]
        }
      ],
      "source": [
        "mlr = LinearRegression()\n",
        "print(f\"test set: {X_test.shape}, {y_test.shape}\")\n",
        "print(f\"train set: {X_train.shape}, {y_train.shape}\")\n",
        "mlr.fit(X_train, y_train)\n",
        "score = mlr.score(X_test, y_test)\n",
        "mse = mean_squared_error(y_pred=mlr.predict(X_test), y_true=y_test)\n",
        "print(f'Mean Square Error: {mse}, R2_Score: {score}')\n",
        "\n",
        "mse_list.append(mse)\n",
        "r2_list.append(score)"
      ]
    },
    {
      "cell_type": "markdown",
      "id": "ee91b008-f232-475d-9599-6c5b13ab9fb6",
      "metadata": {
        "id": "ee91b008-f232-475d-9599-6c5b13ab9fb6"
      },
      "source": [
        "## Gride Search"
      ]
    },
    {
      "cell_type": "markdown",
      "id": "49149810-f13f-4468-8d60-ebc32143f34b",
      "metadata": {
        "id": "49149810-f13f-4468-8d60-ebc32143f34b"
      },
      "source": [
        "### Ridge and Polynomial Regression"
      ]
    },
    {
      "cell_type": "markdown",
      "id": "31787004-dec5-4ca2-b0ac-882b95bd51b8",
      "metadata": {
        "id": "31787004-dec5-4ca2-b0ac-882b95bd51b8"
      },
      "source": [
        "**degree 4 and above need high power chipset to implementing the polynomial and Grid Search**"
      ]
    },
    {
      "cell_type": "code",
      "execution_count": 26,
      "id": "fc0810d1-2310-418f-bbc1-4396288fc468",
      "metadata": {
        "colab": {
          "base_uri": "https://localhost:8080/"
        },
        "id": "fc0810d1-2310-418f-bbc1-4396288fc468",
        "outputId": "68f737a7-1b45-4993-9c50-1e7977cf9c22"
      },
      "outputs": [
        {
          "output_type": "stream",
          "name": "stdout",
          "text": [
            "Degree 2\n",
            "test set: (314, 1770), (314, 1)\n",
            "train set: (730, 1770), (730, 1)\n",
            "Mean Square Error: 0.7011314440237468, R2_Score: 0.34558565106411154\n",
            "best parameters: {'alpha': 8.6, 'solver': 'auto'}, and best result: 0.1693284872286777\n",
            "-------------------------------\n",
            "Degree 3\n",
            "test set: (314, 35990), (314, 1)\n",
            "train set: (730, 35990), (730, 1)\n",
            "Mean Square Error: 0.6770562337296094, R2_Score: 0.36805670582057015\n",
            "best parameters: {'alpha': 8.6, 'solver': 'auto'}, and best result: 0.21436958938503867\n",
            "-------------------------------\n"
          ]
        }
      ],
      "source": [
        "parameters = {'alpha':[x for x in np.arange(0.1,9, 0.5)], 'solver':['auto']}\n",
        "mse_ridge_poly = []\n",
        "r2_ridge_poly = []\n",
        "for i in range(2,4):\n",
        "    print(f'Degree {i}')\n",
        "    X_poly = PolynomialFeatures(degree=i).fit_transform(X)\n",
        "    x_train, x_test = train_test_split(X_poly, test_size=0.3, random_state=432)\n",
        "    x_train = Xpoly_scaler.fit_transform(x_train)\n",
        "    x_test = Xpoly_scaler.transform(x_test)\n",
        "    print(f\"test set: {x_test.shape}, {y_test.shape}\")\n",
        "    print(f\"train set: {x_train.shape}, {y_train.shape}\")\n",
        "    ml_ridge = Ridge()\n",
        "    ridge_grid = GridSearchCV(ml_ridge, parameters, cv=5)\n",
        "    ridge_grid.fit(x_train, y_train)\n",
        "    score = ridge_grid.score(x_test, y_test)\n",
        "    mse = mean_squared_error(y_pred=ridge_grid.predict(x_test), y_true=y_test)\n",
        "    mse_ridge_poly.append(mse)\n",
        "    r2_ridge_poly.append(score)\n",
        "    print(f'Mean Square Error: {mse}, R2_Score: {score}')\n",
        "    print(f'best parameters: {ridge_grid.best_params_}, and best result: {ridge_grid.best_score_}')\n",
        "    print('-------------------------------')\n",
        "\n",
        "mse_list.append(mse_ridge_poly)\n",
        "r2_list.append(r2_ridge_poly)"
      ]
    },
    {
      "cell_type": "markdown",
      "id": "36eaa188-ef05-41e6-98b1-ebc246756efc",
      "metadata": {
        "id": "36eaa188-ef05-41e6-98b1-ebc246756efc"
      },
      "source": [
        "### Ridge Regression"
      ]
    },
    {
      "cell_type": "code",
      "execution_count": 27,
      "id": "0b92f618-b97f-438a-8bda-82dd66c9426c",
      "metadata": {
        "colab": {
          "base_uri": "https://localhost:8080/"
        },
        "id": "0b92f618-b97f-438a-8bda-82dd66c9426c",
        "outputId": "2e99abf7-96da-4a03-8653-e58bcb4dda5c"
      },
      "outputs": [
        {
          "output_type": "stream",
          "name": "stdout",
          "text": [
            "test set: (314, 58), (314, 1)\n",
            "train set: (730, 58), (730, 1)\n",
            "Mean Square Error: 0.398643386529198, R2_Score: 0.6279186242797191\n",
            "best parameters: {'alpha': 8.6, 'solver': 'saga'}, and best result: 0.5591979313008826\n"
          ]
        }
      ],
      "source": [
        "parameters = {'alpha':[x for x in np.arange(0.1,9, 0.5)], 'solver':['auto', 'svd', 'cholesky', 'lsqr', 'sparse_cg', 'sag', 'saga']}\n",
        "print(f\"test set: {X_test.shape}, {y_test.shape}\")\n",
        "print(f\"train set: {X_train.shape}, {y_train.shape}\")\n",
        "ml_ridge = Ridge()\n",
        "ridge_grid = GridSearchCV(ml_ridge, parameters, cv=5)\n",
        "ridge_grid.fit(X_train, y_train)\n",
        "score = ridge_grid.score(X_test, y_test)\n",
        "mse = mean_squared_error(y_pred=ridge_grid.predict(X_test), y_true=y_test)\n",
        "print(f'Mean Square Error: {mse}, R2_Score: {score}')\n",
        "print(f'best parameters: {ridge_grid.best_params_}, and best result: {ridge_grid.best_score_}')\n",
        "\n",
        "mse_list.append(mse)\n",
        "r2_list.append(score)"
      ]
    },
    {
      "cell_type": "markdown",
      "id": "ceb85b15-0017-4ae3-ac83-b1f97d29d740",
      "metadata": {
        "id": "ceb85b15-0017-4ae3-ac83-b1f97d29d740"
      },
      "source": [
        "### Cross-Val and Multiple Regression"
      ]
    },
    {
      "cell_type": "code",
      "execution_count": 30,
      "id": "347c30da-2c8a-41de-ac47-f4cbd7513e7b",
      "metadata": {
        "colab": {
          "base_uri": "https://localhost:8080/"
        },
        "id": "347c30da-2c8a-41de-ac47-f4cbd7513e7b",
        "outputId": "d3cd1124-5f41-4628-83f2-f7fea0302362"
      },
      "outputs": [
        {
          "output_type": "stream",
          "name": "stdout",
          "text": [
            "[ 0.10367143 -0.38638494  0.56162702  0.63556938  0.49604984]\n",
            "Average of scores: 0.28\n"
          ]
        }
      ],
      "source": [
        "ml_for_cross = LinearRegression()\n",
        "score = cross_val_score(ml_for_cross, X, Y, cv=5, scoring='r2')\n",
        "print(score)\n",
        "print('Average of scores: %.2f' % score.mean())"
      ]
    },
    {
      "cell_type": "markdown",
      "id": "c5287421-9858-4945-b575-6509da336f58",
      "metadata": {
        "id": "c5287421-9858-4945-b575-6509da336f58"
      },
      "source": [
        "# review models"
      ]
    },
    {
      "cell_type": "markdown",
      "id": "7ba3b374-f9d1-4622-8e92-7136821e3733",
      "metadata": {
        "id": "7ba3b374-f9d1-4622-8e92-7136821e3733"
      },
      "source": [
        "***you can see cross val result in line above***"
      ]
    },
    {
      "cell_type": "code",
      "execution_count": 31,
      "id": "4b3da4e9-5faf-4b3d-94c3-6be903801819",
      "metadata": {
        "id": "4b3da4e9-5faf-4b3d-94c3-6be903801819"
      },
      "outputs": [],
      "source": [
        "models = ['Polynomial Regression', 'Multiple Linear Regression', 'Ridge and Polynomial Regression', 'Ridge Regression']"
      ]
    },
    {
      "cell_type": "code",
      "execution_count": 36,
      "id": "262d0f2a-0ae8-40ee-9974-6d018b84e6ef",
      "metadata": {
        "id": "262d0f2a-0ae8-40ee-9974-6d018b84e6ef"
      },
      "outputs": [],
      "source": [
        "model_2 = pd.DataFrame({'result':[mse_list[1], r2_list[1]]}, index=['MSE', 'R2'])"
      ]
    },
    {
      "cell_type": "code",
      "execution_count": 37,
      "id": "e406a4f1-57fb-41a3-8132-2c9dae1ff1e7",
      "metadata": {
        "id": "e406a4f1-57fb-41a3-8132-2c9dae1ff1e7"
      },
      "outputs": [],
      "source": [
        "model_3 = pd.DataFrame({'Degree 2':[mse_list[2][0], r2_list[2][0]], 'Degree 3':[mse_list[2][1], r2_list[2][1]]}, index=['MSE', 'R2'])"
      ]
    },
    {
      "cell_type": "code",
      "execution_count": 43,
      "id": "412f07bc-ecbd-434e-8fe1-d4d4f170b0ab",
      "metadata": {
        "id": "412f07bc-ecbd-434e-8fe1-d4d4f170b0ab"
      },
      "outputs": [],
      "source": [
        "model_4 = pd.DataFrame({'result':[mse_list[3][0], r2_list[3][0]]}, index=['MSE', 'R2'])"
      ]
    },
    {
      "cell_type": "code",
      "execution_count": 53,
      "id": "e08d5e8c-54ea-47d7-afd4-7c4902c4f2ed",
      "metadata": {
        "colab": {
          "base_uri": "https://localhost:8080/",
          "height": 963
        },
        "id": "e08d5e8c-54ea-47d7-afd4-7c4902c4f2ed",
        "outputId": "85e806ed-bf8f-4f42-d30e-afa4cdcd8787"
      },
      "outputs": [
        {
          "output_type": "execute_result",
          "data": {
            "text/plain": [
              "Text(0.5, 0.98, 'Results of 3 Models')"
            ]
          },
          "metadata": {},
          "execution_count": 53
        },
        {
          "output_type": "display_data",
          "data": {
            "text/plain": [
              "<Figure size 1500x1000 with 3 Axes>"
            ],
            "image/png": "[encoded data removed]"
          },
          "metadata": {}
        }
      ],
      "source": [
        "fig = plt.figure(figsize=(15,10))\n",
        "# model_1['Degree 2'].plot(kind='bar', title='Polynomial Regression', ax=fig.add_subplot(221))\n",
        "model_2.plot(kind='bar', title='Multiple Linear Regression', ax=fig.add_subplot(311))\n",
        "model_3.plot(kind='bar', title='Ridge and Polynomial Regression', ax=fig.add_subplot(312))\n",
        "model_4.plot(kind='bar', title='Ridge Regression', ax=fig.add_subplot(313))\n",
        "\n",
        "fig.suptitle('Results of 3 Models', fontsize=16)"
      ]
    },
    {
      "cell_type": "markdown",
      "id": "63948261-c703-420b-8859-1087d8bb3e13",
      "metadata": {
        "tags": [],
        "id": "63948261-c703-420b-8859-1087d8bb3e13"
      },
      "source": [
        "# Done"
      ]
    }
  ],
  "metadata": {
    "kernelspec": {
      "display_name": "StudentPerfo",
      "language": "python",
      "name": "studentperfo"
    },
    "language_info": {
      "codemirror_mode": {
        "name": "ipython",
        "version": 3
      },
      "file_extension": ".py",
      "mimetype": "text/x-python",
      "name": "python",
      "nbconvert_exporter": "python",
      "pygments_lexer": "ipython3",
      "version": "3.10.6"
    },
    "colab": {
      "provenance": []
    }
  },
  "nbformat": 4,
  "nbformat_minor": 5
}