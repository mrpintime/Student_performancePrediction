{
 "cells": [
  {
   "cell_type": "markdown",
   "id": "d9e85ee6-195b-4c01-b423-1ba9a18aab62",
   "metadata": {},
   "source": [
    "# Predictive Analysis and Pre-Processing\n",
    "**created by mrpintime**\n",
    "\n",
    "\n",
    "\n",
    "\n",
    "\n",
    "\n",
    "\n"
   ]
  },
  {
   "cell_type": "code",
   "execution_count": 1,
   "id": "9cc98774-82b7-4c79-b1ed-b182804522cb",
   "metadata": {},
   "outputs": [],
   "source": [
    "import pandas as pd\n",
    "import numpy as np\n",
    "# Preprocessing allows us to standarsize our data\n",
    "from sklearn.preprocessing import StandardScaler, PolynomialFeatures\n",
    "# Allows us to split our data into training and testing data and evaluate data on k-fold\n",
    "from sklearn.model_selection import cross_val_score, train_test_split\n",
    "# from sklearn.model_selection import GridSearchCV\n",
    "from sklearn.model_selection import GridSearchCV\n",
    "from sklearn.linear_model import LinearRegression, Ridge\n",
    "# evaluate Linear regression model\n",
    "from sklearn.metrics import mean_squared_error"
   ]
  },
  {
   "cell_type": "code",
   "execution_count": 2,
   "id": "8afeef07-65e3-4277-ae7b-c390012b2352",
   "metadata": {},
   "outputs": [],
   "source": [
    "df = pd.read_csv('preprocessedFeatures.csv')"
   ]
  },
  {
   "cell_type": "code",
   "execution_count": 3,
   "id": "322d9cef-4a28-4780-b36f-94688b1422a5",
   "metadata": {},
   "outputs": [],
   "source": [
    "X_df = df.drop(columns=['G3'])\n",
    "Y = df['G3']"
   ]
  },
  {
   "cell_type": "code",
   "execution_count": 4,
   "id": "205ad10b-c0d1-434e-9285-4cb9c96d9ad4",
   "metadata": {},
   "outputs": [],
   "source": [
    "Y = Y.to_numpy()"
   ]
  },
  {
   "cell_type": "code",
   "execution_count": 5,
   "id": "187a6d7a-b442-46f1-934f-d54dbe2eab66",
   "metadata": {},
   "outputs": [],
   "source": [
    "X = X_df"
   ]
  },
  {
   "cell_type": "code",
   "execution_count": 6,
   "id": "26921103-3d0b-4bc3-bee9-e7ccb2000574",
   "metadata": {},
   "outputs": [
    {
     "data": {
      "text/html": [
       "<div>\n",
       "<style scoped>\n",
       "    .dataframe tbody tr th:only-of-type {\n",
       "        vertical-align: middle;\n",
       "    }\n",
       "\n",
       "    .dataframe tbody tr th {\n",
       "        vertical-align: top;\n",
       "    }\n",
       "\n",
       "    .dataframe thead th {\n",
       "        text-align: right;\n",
       "    }\n",
       "</style>\n",
       "<table border=\"1\" class=\"dataframe\">\n",
       "  <thead>\n",
       "    <tr style=\"text-align: right;\">\n",
       "      <th></th>\n",
       "      <th>school</th>\n",
       "      <th>sex</th>\n",
       "      <th>age</th>\n",
       "      <th>address</th>\n",
       "      <th>famsize</th>\n",
       "      <th>Pstatus</th>\n",
       "      <th>Medu</th>\n",
       "      <th>Fedu</th>\n",
       "      <th>Mjob</th>\n",
       "      <th>Fjob</th>\n",
       "      <th>...</th>\n",
       "      <th>famrel</th>\n",
       "      <th>freetime</th>\n",
       "      <th>goout</th>\n",
       "      <th>Dalc</th>\n",
       "      <th>Walc</th>\n",
       "      <th>health</th>\n",
       "      <th>absences</th>\n",
       "      <th>G1</th>\n",
       "      <th>G2</th>\n",
       "      <th>grouped_g3</th>\n",
       "    </tr>\n",
       "  </thead>\n",
       "  <tbody>\n",
       "    <tr>\n",
       "      <th>0</th>\n",
       "      <td>0</td>\n",
       "      <td>0</td>\n",
       "      <td>18</td>\n",
       "      <td>0</td>\n",
       "      <td>0</td>\n",
       "      <td>0</td>\n",
       "      <td>4</td>\n",
       "      <td>4</td>\n",
       "      <td>0</td>\n",
       "      <td>0</td>\n",
       "      <td>...</td>\n",
       "      <td>2.000000</td>\n",
       "      <td>3</td>\n",
       "      <td>4</td>\n",
       "      <td>1.000000</td>\n",
       "      <td>1.000000</td>\n",
       "      <td>3</td>\n",
       "      <td>2.000000</td>\n",
       "      <td>0</td>\n",
       "      <td>11</td>\n",
       "      <td>1</td>\n",
       "    </tr>\n",
       "    <tr>\n",
       "      <th>1</th>\n",
       "      <td>0</td>\n",
       "      <td>0</td>\n",
       "      <td>17</td>\n",
       "      <td>0</td>\n",
       "      <td>0</td>\n",
       "      <td>1</td>\n",
       "      <td>1</td>\n",
       "      <td>1</td>\n",
       "      <td>0</td>\n",
       "      <td>1</td>\n",
       "      <td>...</td>\n",
       "      <td>2.236068</td>\n",
       "      <td>3</td>\n",
       "      <td>3</td>\n",
       "      <td>1.000000</td>\n",
       "      <td>1.000000</td>\n",
       "      <td>3</td>\n",
       "      <td>1.414214</td>\n",
       "      <td>9</td>\n",
       "      <td>11</td>\n",
       "      <td>1</td>\n",
       "    </tr>\n",
       "    <tr>\n",
       "      <th>2</th>\n",
       "      <td>0</td>\n",
       "      <td>0</td>\n",
       "      <td>15</td>\n",
       "      <td>0</td>\n",
       "      <td>1</td>\n",
       "      <td>1</td>\n",
       "      <td>1</td>\n",
       "      <td>1</td>\n",
       "      <td>0</td>\n",
       "      <td>1</td>\n",
       "      <td>...</td>\n",
       "      <td>2.000000</td>\n",
       "      <td>3</td>\n",
       "      <td>2</td>\n",
       "      <td>1.414214</td>\n",
       "      <td>1.732051</td>\n",
       "      <td>3</td>\n",
       "      <td>2.449490</td>\n",
       "      <td>12</td>\n",
       "      <td>13</td>\n",
       "      <td>1</td>\n",
       "    </tr>\n",
       "    <tr>\n",
       "      <th>3</th>\n",
       "      <td>0</td>\n",
       "      <td>0</td>\n",
       "      <td>15</td>\n",
       "      <td>0</td>\n",
       "      <td>0</td>\n",
       "      <td>1</td>\n",
       "      <td>4</td>\n",
       "      <td>2</td>\n",
       "      <td>1</td>\n",
       "      <td>2</td>\n",
       "      <td>...</td>\n",
       "      <td>1.732051</td>\n",
       "      <td>2</td>\n",
       "      <td>2</td>\n",
       "      <td>1.000000</td>\n",
       "      <td>1.000000</td>\n",
       "      <td>5</td>\n",
       "      <td>0.000000</td>\n",
       "      <td>14</td>\n",
       "      <td>14</td>\n",
       "      <td>1</td>\n",
       "    </tr>\n",
       "    <tr>\n",
       "      <th>4</th>\n",
       "      <td>0</td>\n",
       "      <td>0</td>\n",
       "      <td>16</td>\n",
       "      <td>0</td>\n",
       "      <td>0</td>\n",
       "      <td>1</td>\n",
       "      <td>3</td>\n",
       "      <td>3</td>\n",
       "      <td>2</td>\n",
       "      <td>1</td>\n",
       "      <td>...</td>\n",
       "      <td>2.000000</td>\n",
       "      <td>3</td>\n",
       "      <td>2</td>\n",
       "      <td>1.000000</td>\n",
       "      <td>1.414214</td>\n",
       "      <td>5</td>\n",
       "      <td>0.000000</td>\n",
       "      <td>11</td>\n",
       "      <td>13</td>\n",
       "      <td>1</td>\n",
       "    </tr>\n",
       "  </tbody>\n",
       "</table>\n",
       "<p>5 rows × 33 columns</p>\n",
       "</div>"
      ],
      "text/plain": [
       "   school  sex  age  address  famsize  Pstatus  Medu  Fedu  Mjob  Fjob  ...  \\\n",
       "0       0    0   18        0        0        0     4     4     0     0  ...   \n",
       "1       0    0   17        0        0        1     1     1     0     1  ...   \n",
       "2       0    0   15        0        1        1     1     1     0     1  ...   \n",
       "3       0    0   15        0        0        1     4     2     1     2  ...   \n",
       "4       0    0   16        0        0        1     3     3     2     1  ...   \n",
       "\n",
       "     famrel  freetime  goout      Dalc      Walc  health  absences  G1  G2  \\\n",
       "0  2.000000         3      4  1.000000  1.000000       3  2.000000   0  11   \n",
       "1  2.236068         3      3  1.000000  1.000000       3  1.414214   9  11   \n",
       "2  2.000000         3      2  1.414214  1.732051       3  2.449490  12  13   \n",
       "3  1.732051         2      2  1.000000  1.000000       5  0.000000  14  14   \n",
       "4  2.000000         3      2  1.000000  1.414214       5  0.000000  11  13   \n",
       "\n",
       "   grouped_g3  \n",
       "0           1  \n",
       "1           1  \n",
       "2           1  \n",
       "3           1  \n",
       "4           1  \n",
       "\n",
       "[5 rows x 33 columns]"
      ]
     },
     "execution_count": 6,
     "metadata": {},
     "output_type": "execute_result"
    }
   ],
   "source": [
    "X.head()"
   ]
  },
  {
   "cell_type": "code",
   "execution_count": 7,
   "id": "9cb8f240-656b-40bb-a83c-dd4ea8c9d0e8",
   "metadata": {},
   "outputs": [],
   "source": [
    "# standardaize and normalize\n",
    "X = StandardScaler().fit_transform(X)"
   ]
  },
  {
   "cell_type": "markdown",
   "id": "7450e1c8-8878-4714-a1f1-a679f966fd92",
   "metadata": {},
   "source": [
    "# Linear regreassion"
   ]
  },
  {
   "cell_type": "markdown",
   "id": "6b480430-e03d-4dbc-885a-b00e8cccb41c",
   "metadata": {},
   "source": [
    "### Polynomial Regression"
   ]
  },
  {
   "cell_type": "code",
   "execution_count": 8,
   "id": "52bb276e-0b1f-4f22-b304-0df1e61250ba",
   "metadata": {},
   "outputs": [
    {
     "name": "stdout",
     "output_type": "stream",
     "text": [
      "Degree 2\n",
      "test set: (198, 595), (198,)\n",
      "train set: (792, 595), (792,)\n",
      "Mean Square Error: 3.182452814597072, R2_Score: 0.6588550925193217\n",
      "-------------------------------\n",
      "Degree 3\n",
      "test set: (198, 7140), (198,)\n",
      "train set: (792, 7140), (792,)\n",
      "Mean Square Error: 1.6910485421580321, R2_Score: 0.8187270536066447\n",
      "-------------------------------\n",
      "Degree 4\n",
      "test set: (198, 66045), (198,)\n",
      "train set: (792, 66045), (792,)\n",
      "Mean Square Error: 1.8440484227495637, R2_Score: 0.8023261411187839\n",
      "-------------------------------\n"
     ]
    }
   ],
   "source": [
    "for i in range(2,5):\n",
    "    print(f'Degree {i}')\n",
    "    X_poly = PolynomialFeatures(degree=i).fit_transform(X)\n",
    "    x_train, x_test, y_train, y_test = train_test_split(X_poly, Y, test_size=0.2, random_state=4)\n",
    "    print(f\"test set: {x_test.shape}, {y_test.shape}\")\n",
    "    print(f\"train set: {x_train.shape}, {y_train.shape}\")\n",
    "    ml_poly = LinearRegression()\n",
    "    ml_poly.fit(x_train, y_train)\n",
    "    score = ml_poly.score(x_test, y_test)\n",
    "    mse = mean_squared_error(y_pred=ml_poly.predict(x_test), y_true=y_test)\n",
    "    print(f'Mean Square Error: {mse}, R2_Score: {score}')\n",
    "    print('-------------------------------')"
   ]
  },
  {
   "cell_type": "code",
   "execution_count": 9,
   "id": "d155f112-3018-44bf-ad12-45a4ecf6b594",
   "metadata": {
    "tags": []
   },
   "outputs": [],
   "source": [
    "# degree 5 will have to much fetures and need more resourse for computing"
   ]
  },
  {
   "cell_type": "markdown",
   "id": "7858ff75-398e-4a08-b25b-1c774191ff14",
   "metadata": {},
   "source": [
    "### Multiple Linear Regression"
   ]
  },
  {
   "cell_type": "code",
   "execution_count": 10,
   "id": "d8f764cb-1089-4f84-b496-46efbded3bbe",
   "metadata": {},
   "outputs": [
    {
     "name": "stdout",
     "output_type": "stream",
     "text": [
      "test set: (198, 33), (198,)\n",
      "train set: (792, 33), (792,)\n",
      "Mean Square Error: 0.5152130799712819, R2_Score: 0.9447714298564105\n"
     ]
    }
   ],
   "source": [
    "x_train, x_test, y_train, y_test = train_test_split(X, Y, test_size=0.2, random_state=4)\n",
    "mlr = LinearRegression()\n",
    "print(f\"test set: {x_test.shape}, {y_test.shape}\")\n",
    "print(f\"train set: {x_train.shape}, {y_train.shape}\")\n",
    "mlr.fit(x_train, y_train)\n",
    "score = mlr.score(x_test, y_test)\n",
    "mse = mean_squared_error(y_pred=mlr.predict(x_test), y_true=y_test)\n",
    "print(f'Mean Square Error: {mse}, R2_Score: {score}')"
   ]
  },
  {
   "cell_type": "markdown",
   "id": "ee91b008-f232-475d-9599-6c5b13ab9fb6",
   "metadata": {},
   "source": [
    "## Gride Search"
   ]
  },
  {
   "cell_type": "markdown",
   "id": "49149810-f13f-4468-8d60-ebc32143f34b",
   "metadata": {},
   "source": [
    "### Ridge Regression for Polynomial Regression"
   ]
  },
  {
   "cell_type": "markdown",
   "id": "31787004-dec5-4ca2-b0ac-882b95bd51b8",
   "metadata": {},
   "source": [
    "**degree 4 and above need high power chipset to implementing the polynomial and Grid Search**"
   ]
  },
  {
   "cell_type": "code",
   "execution_count": 11,
   "id": "fc0810d1-2310-418f-bbc1-4396288fc468",
   "metadata": {},
   "outputs": [
    {
     "name": "stdout",
     "output_type": "stream",
     "text": [
      "Degree 2\n",
      "test set: (198, 595), (198,)\n",
      "train set: (792, 595), (792,)\n",
      "Mean Square Error: 1.6438416523044392, R2_Score: 0.8237874240220953\n",
      "best parameters: {'alpha': 8.6, 'solver': 'auto'}, and best result: 0.7592774392916608\n",
      "-------------------------------\n",
      "Degree 3\n",
      "test set: (198, 7140), (198,)\n",
      "train set: (792, 7140), (792,)\n",
      "Mean Square Error: 1.453329567045632, R2_Score: 0.8442094794258594\n",
      "best parameters: {'alpha': 8.6, 'solver': 'auto'}, and best result: 0.8065948425366318\n",
      "-------------------------------\n"
     ]
    }
   ],
   "source": [
    "parameters = {'alpha':[x for x in np.arange(0.1,9, 0.5)], 'solver':['auto']}\n",
    "for i in range(2,4):\n",
    "    print(f'Degree {i}')\n",
    "    X_poly = PolynomialFeatures(degree=i).fit_transform(X)\n",
    "    x_train, x_test, y_train, y_test = train_test_split(X_poly, Y, test_size=0.2, random_state=4)\n",
    "    print(f\"test set: {x_test.shape}, {y_test.shape}\")\n",
    "    print(f\"train set: {x_train.shape}, {y_train.shape}\")\n",
    "    ml_ridge = Ridge()\n",
    "    ridge_grid = GridSearchCV(ml_ridge, parameters, cv=5)\n",
    "    ridge_grid.fit(x_train, y_train)\n",
    "    score = ridge_grid.score(x_test, y_test)\n",
    "    mse = mean_squared_error(y_pred=ridge_grid.predict(x_test), y_true=y_test)\n",
    "    print(f'Mean Square Error: {mse}, R2_Score: {score}')\n",
    "    print(f'best parameters: {ridge_grid.best_params_}, and best result: {ridge_grid.best_score_}')\n",
    "    print('-------------------------------')"
   ]
  },
  {
   "cell_type": "markdown",
   "id": "36eaa188-ef05-41e6-98b1-ebc246756efc",
   "metadata": {},
   "source": [
    "### Ridge Regression"
   ]
  },
  {
   "cell_type": "code",
   "execution_count": 12,
   "id": "0b92f618-b97f-438a-8bda-82dd66c9426c",
   "metadata": {},
   "outputs": [
    {
     "name": "stdout",
     "output_type": "stream",
     "text": [
      "test set: (198, 33), (198,)\n",
      "train set: (792, 33), (792,)\n",
      "Mean Square Error: 0.5173686844296519, R2_Score: 0.9445403585644364\n",
      "best parameters: {'alpha': 3.6, 'solver': 'sparse_cg'}, and best result: 0.9255307645822249\n"
     ]
    }
   ],
   "source": [
    "x_train, x_test, y_train, y_test = train_test_split(X, Y, test_size=0.2, random_state=4)\n",
    "parameters = {'alpha':[x for x in np.arange(0.1,9, 0.5)], 'solver':['auto', 'svd', 'cholesky', 'lsqr', 'sparse_cg', 'sag', 'saga']}\n",
    "print(f\"test set: {x_test.shape}, {y_test.shape}\")\n",
    "print(f\"train set: {x_train.shape}, {y_train.shape}\")\n",
    "ml_ridge = Ridge()\n",
    "ridge_grid = GridSearchCV(ml_ridge, parameters, cv=5)\n",
    "ridge_grid.fit(x_train, y_train)\n",
    "score = ridge_grid.score(x_test, y_test)\n",
    "mse = mean_squared_error(y_pred=ridge_grid.predict(x_test), y_true=y_test)\n",
    "print(f'Mean Square Error: {mse}, R2_Score: {score}')\n",
    "print(f'best parameters: {ridge_grid.best_params_}, and best result: {ridge_grid.best_score_}')"
   ]
  },
  {
   "cell_type": "markdown",
   "id": "ceb85b15-0017-4ae3-ac83-b1f97d29d740",
   "metadata": {},
   "source": [
    "### Cross-Val and Multiple Regression"
   ]
  },
  {
   "cell_type": "code",
   "execution_count": 13,
   "id": "347c30da-2c8a-41de-ac47-f4cbd7513e7b",
   "metadata": {},
   "outputs": [
    {
     "name": "stdout",
     "output_type": "stream",
     "text": [
      "[0.88918325 0.89278532 0.93751022 0.93960088 0.93447638]\n",
      "Average of scores: 0.92\n"
     ]
    }
   ],
   "source": [
    "ml_for_cross = LinearRegression()\n",
    "score = cross_val_score(ml_for_cross, X, Y, cv=5)\n",
    "print(score)\n",
    "print('Average of scores: %.2f' % score.mean())"
   ]
  },
  {
   "cell_type": "markdown",
   "id": "63948261-c703-420b-8859-1087d8bb3e13",
   "metadata": {},
   "source": [
    "# Done"
   ]
  },
  {
   "cell_type": "markdown",
   "id": "8bf3d067-c2a6-49ca-9043-80f31ba5caac",
   "metadata": {},
   "source": [
    "New Aproaches coming soon...😉 "
   ]
  }
 ],
 "metadata": {
  "kernelspec": {
   "display_name": "StudentPerfo",
   "language": "python",
   "name": "studentperfo"
  },
  "language_info": {
   "codemirror_mode": {
    "name": "ipython",
    "version": 3
   },
   "file_extension": ".py",
   "mimetype": "text/x-python",
   "name": "python",
   "nbconvert_exporter": "python",
   "pygments_lexer": "ipython3",
   "version": "3.10.6"
  }
 },
 "nbformat": 4,
 "nbformat_minor": 5
}
